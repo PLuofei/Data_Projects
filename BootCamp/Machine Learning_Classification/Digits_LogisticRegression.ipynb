{
 "cells": [
  {
   "attachments": {},
   "cell_type": "markdown",
   "metadata": {},
   "source": [
    "<center><a target=\"_blank\" href=\"https://academy.constructor.org/\"><img src=https://lh3.googleusercontent.com/d/1EmH3Jks5CpJy0zK3JbkvJZkeqWtVcxhB width=\"500\" style=\"background:none; border:none; box-shadow:none;\" /></a> </center>\n",
    "<hr />\n",
    "\n",
    "# <h1 align=\"center\"> Exercise 2: Multiclass logistic regression from scratch </h1>\n",
    "\n",
    "<hr />\n",
    "<center>Constructor Academy, 2024</center>\n"
   ]
  },
  {
   "cell_type": "markdown",
   "metadata": {},
   "source": [
    "\n",
    "We will implement a logistic regression model trainable with SGD using numpy. Here are the objectives:\n",
    "\n",
    "1. Implement a `predict_proba` function for predicting probabilities for multi class classification via the softmax function. You used the softmax function already during prework when you built a neural network from scratch (acutally logistic regression can be seen as a very simple neural network):\n",
    "$y = softmax(\\mathbf{W} x + b)$\n",
    "\n",
    "1. build a `predict` function which returns the most probable class given an input $x$\n",
    "\n",
    "1. build an `accuracy` function for a batch of inputs $X$ and the corresponding expected outputs $y_{true}$\n",
    "\n",
    "1. build a `grad` function which computes $\\frac{d}{dW} -\\log(softmax(Wx + b))$ for an $x$ and its corresponding expected output $y_{true}$ ; check that the gradients are well defined\n",
    "\n",
    "1. build a `train` function which uses the `grad` function output to update $\\mathbf{W}$ and $b$"
   ]
  },
  {
   "cell_type": "code",
   "execution_count": 1,
   "metadata": {},
   "outputs": [],
   "source": [
    "%matplotlib inline\n",
    "#%load_ext lab_black"
   ]
  },
  {
   "cell_type": "code",
   "execution_count": 2,
   "metadata": {},
   "outputs": [],
   "source": [
    "import numpy as np\n",
    "import pandas as pd\n",
    "import seaborn as sns\n",
    "import matplotlib.pyplot as plt\n",
    "import seaborn as sns\n",
    "from matplotlib import cm as cm\n",
    "import random\n",
    "import sys\n",
    "\n",
    "from sklearn.model_selection import train_test_split\n",
    "from sklearn import preprocessing\n",
    "from sklearn.datasets import load_digits\n",
    "from sklearn.metrics import confusion_matrix"
   ]
  },
  {
   "cell_type": "code",
   "execution_count": 6,
   "metadata": {},
   "outputs": [],
   "source": [
    "plt.style.use(\"seaborn-v0_8\")"
   ]
  },
  {
   "cell_type": "markdown",
   "metadata": {},
   "source": [
    "## 1. Load the Dataset"
   ]
  },
  {
   "cell_type": "markdown",
   "metadata": {},
   "source": [
    "We will be using the Digits dataset from sklearn. This dataset is made up of 1797 8x8 images. Each image, like the one shown below, is of a hand-written digit. In order to utilize an 8x8 figure like this, we’d have to first transform it into a feature vector with length 64."
   ]
  },
  {
   "cell_type": "code",
   "execution_count": 7,
   "metadata": {},
   "outputs": [],
   "source": [
    "digits = load_digits()  # load dataset"
   ]
  },
  {
   "cell_type": "markdown",
   "metadata": {},
   "source": [
    "## 2. One hot encoding"
   ]
  },
  {
   "cell_type": "markdown",
   "metadata": {},
   "source": [
    "Create a helper function to compute the one hot encoding of an integer array for a fixed number of classes:"
   ]
  },
  {
   "cell_type": "code",
   "execution_count": 8,
   "metadata": {},
   "outputs": [],
   "source": [
    "def one_hot(n_classes, y):\n",
    "    return np.eye(n_classes)[y]"
   ]
  },
  {
   "cell_type": "markdown",
   "metadata": {},
   "source": [
    "Test if function works:"
   ]
  },
  {
   "cell_type": "code",
   "execution_count": 9,
   "metadata": {},
   "outputs": [
    {
     "data": {
      "text/plain": [
       "array([0., 0., 0., 1., 0., 0., 0., 0., 0., 0.])"
      ]
     },
     "execution_count": 9,
     "metadata": {},
     "output_type": "execute_result"
    }
   ],
   "source": [
    "one_hot(10, 3)"
   ]
  },
  {
   "cell_type": "code",
   "execution_count": 10,
   "metadata": {},
   "outputs": [
    {
     "data": {
      "text/plain": [
       "array([[0., 0., 0., 1., 0., 0., 0., 0., 0., 0.],\n",
       "       [0., 0., 1., 0., 0., 0., 0., 0., 0., 0.],\n",
       "       [0., 1., 0., 0., 0., 0., 0., 0., 0., 0.],\n",
       "       [1., 0., 0., 0., 0., 0., 0., 0., 0., 0.]])"
      ]
     },
     "execution_count": 10,
     "metadata": {},
     "output_type": "execute_result"
    }
   ],
   "source": [
    "one_hot(10, [3, 2, 1, 0])"
   ]
  },
  {
   "cell_type": "markdown",
   "metadata": {},
   "source": [
    "## 3. Data exploration"
   ]
  },
  {
   "cell_type": "code",
   "execution_count": 11,
   "metadata": {},
   "outputs": [
    {
     "data": {
      "text/plain": [
       "Text(0.5, 1.0, 'image label: 3')"
      ]
     },
     "execution_count": 11,
     "metadata": {},
     "output_type": "execute_result"
    },
    {
     "data": {
      "image/png": "[encoded data removed]",
      "text/plain": [
       "<Figure size 300x300 with 1 Axes>"
      ]
     },
     "metadata": {},
     "output_type": "display_data"
    }
   ],
   "source": [
    "sample_index = 3  # change this to see different examples\n",
    "plt.figure(figsize=(3, 3))\n",
    "plt.imshow(digits.images[sample_index], cmap=plt.cm.gray_r, interpolation=\"nearest\")\n",
    "plt.title(\"image label: %d\" % digits.target[sample_index])"
   ]
  },
  {
   "cell_type": "markdown",
   "metadata": {},
   "source": [
    "## 4. Data preprocessing"
   ]
  },
  {
   "cell_type": "code",
   "execution_count": 12,
   "metadata": {},
   "outputs": [
    {
     "data": {
      "text/plain": [
       "array([0, 1, 2, 3, 4, 5, 6, 7, 8, 9])"
      ]
     },
     "execution_count": 12,
     "metadata": {},
     "output_type": "execute_result"
    }
   ],
   "source": [
    "np.unique(digits.target)"
   ]
  },
  {
   "cell_type": "code",
   "execution_count": 13,
   "metadata": {},
   "outputs": [],
   "source": [
    "data = np.asarray(digits.data, dtype=\"float32\")\n",
    "target = np.asarray(digits.target, dtype=\"int32\")\n",
    "\n",
    "X_train, X_test, y_train, y_test = train_test_split(\n",
    "    data, target, test_size=0.15, random_state=37\n",
    ")\n",
    "\n",
    "scaler = preprocessing.StandardScaler()\n",
    "X_train = scaler.fit_transform(X_train)\n",
    "X_test = scaler.transform(X_test)\n",
    "\n",
    "Y_train = one_hot(10, y_train)\n",
    "Y_test = one_hot(10, y_test)"
   ]
  },
  {
   "cell_type": "markdown",
   "metadata": {},
   "source": [
    "One of the transformed sample (after feature standardization):"
   ]
  },
  {
   "cell_type": "code",
   "execution_count": 14,
   "metadata": {},
   "outputs": [
    {
     "data": {
      "text/plain": [
       "Text(0.5, 1.0, 'transformed sample\\n(standardised)')"
      ]
     },
     "execution_count": 14,
     "metadata": {},
     "output_type": "execute_result"
    },
    {
     "data": {
      "image/png": "[encoded data removed]",
      "text/plain": [
       "<Figure size 300x300 with 1 Axes>"
      ]
     },
     "metadata": {},
     "output_type": "display_data"
    }
   ],
   "source": [
    "sample_index = 1\n",
    "plt.figure(figsize=(3, 3))\n",
    "plt.imshow(\n",
    "    X_train[sample_index].reshape(8, 8), cmap=plt.cm.gray_r, interpolation=\"nearest\"\n",
    ")\n",
    "plt.title(\"transformed sample\\n(standardised)\")"
   ]
  },
  {
   "cell_type": "markdown",
   "metadata": {},
   "source": [
    "The scaler objects makes it possible to recover the original sample:"
   ]
  },
  {
   "cell_type": "code",
   "execution_count": 15,
   "metadata": {},
   "outputs": [
    {
     "data": {
      "text/plain": [
       "Text(0.5, 1.0, 'original sample')"
      ]
     },
     "execution_count": 15,
     "metadata": {},
     "output_type": "execute_result"
    },
    {
     "data": {
      "image/png": "[encoded data removed]",
      "text/plain": [
       "<Figure size 300x300 with 1 Axes>"
      ]
     },
     "metadata": {},
     "output_type": "display_data"
    }
   ],
   "source": [
    "plt.figure(figsize=(3, 3))\n",
    "plt.imshow(\n",
    "    scaler.inverse_transform(X_train[sample_index].reshape(1, -1)).reshape(8, 8),\n",
    "    cmap=plt.cm.gray_r,\n",
    "    interpolation=\"nearest\",\n",
    ")\n",
    "plt.title(\"original sample\")"
   ]
  },
  {
   "cell_type": "markdown",
   "metadata": {},
   "source": [
    "## 5. Softmax"
   ]
  },
  {
   "cell_type": "markdown",
   "metadata": {},
   "source": [
    "Softmax Formula Implementation:\n",
    "$$\n",
    "softmax(\\mathbf{x}) = \\frac{1}{\\sum_{i=1}^{n}{e^{x_i}}}\n",
    "\\cdot\n",
    "\\begin{bmatrix}\n",
    "  e^{x_1}\\\\\\\\\n",
    "  e^{x_2}\\\\\\\\\n",
    "  \\vdots\\\\\\\\\n",
    "  e^{x_n}\n",
    "\\end{bmatrix}\n",
    "$$"
   ]
  },
  {
   "cell_type": "code",
   "execution_count": 16,
   "metadata": {},
   "outputs": [],
   "source": [
    "def softmax(X):\n",
    "    exp = np.exp(X)\n",
    "    return exp / np.sum(exp, axis=-1, keepdims=True)"
   ]
  },
  {
   "cell_type": "markdown",
   "metadata": {},
   "source": [
    "Test the softmax function by applying it on an example vector. Check that the components sum to one."
   ]
  },
  {
   "cell_type": "code",
   "execution_count": 17,
   "metadata": {},
   "outputs": [
    {
     "name": "stdout",
     "output_type": "stream",
     "text": [
      "[9.99662391e-01 3.35349373e-04 2.25956630e-06]\n",
      "1.0\n"
     ]
    }
   ],
   "source": [
    "print(softmax([10, 2, -3]))\n",
    "print(sum(softmax([10, 2, -3])))"
   ]
  },
  {
   "cell_type": "markdown",
   "metadata": {},
   "source": [
    "Note that a naive implementation of softmax might not be able process a batch of activations in a single call (but we need that):"
   ]
  },
  {
   "cell_type": "code",
   "execution_count": 18,
   "metadata": {},
   "outputs": [
    {
     "name": "stdout",
     "output_type": "stream",
     "text": [
      "[[9.99662391e-01 3.35349373e-04 2.25956630e-06]\n",
      " [2.47262316e-03 9.97527377e-01 1.38536042e-11]]\n"
     ]
    }
   ],
   "source": [
    "X = np.array([[10, 2, -3], [-1, 5, -20]])\n",
    "print(softmax(X))"
   ]
  },
  {
   "cell_type": "markdown",
   "metadata": {},
   "source": [
    "## 6. Negative log likelihood"
   ]
  },
  {
   "cell_type": "markdown",
   "metadata": {},
   "source": [
    "Given the true one-hot encoded class `Y_true` and some predicted probabilities `Y_pred`, will return the negative log likelihood."
   ]
  },
  {
   "cell_type": "code",
   "execution_count": 19,
   "metadata": {},
   "outputs": [
    {
     "name": "stdout",
     "output_type": "stream",
     "text": [
      "0.01005032575249135\n"
     ]
    }
   ],
   "source": [
    "EPSILON = 1e-8\n",
    "\n",
    "\n",
    "def nll(Y_true, Y_pred):\n",
    "    Y_true, Y_pred = np.atleast_2d(Y_true), np.atleast_2d(Y_pred)\n",
    "    loglikelihoods = np.sum(np.log(EPSILON + Y_pred) * Y_true, axis=1)\n",
    "    return -np.mean(loglikelihoods)\n",
    "\n",
    "\n",
    "# Make sure that it works for a simple sample at a time\n",
    "print(nll([1, 0, 0], [0.99, 0.01, 0]))"
   ]
  },
  {
   "cell_type": "markdown",
   "metadata": {},
   "source": [
    "Check that the `nll` of a very confident yet incorrect prediction is a much higher positive number:"
   ]
  },
  {
   "cell_type": "code",
   "execution_count": 20,
   "metadata": {},
   "outputs": [
    {
     "name": "stdout",
     "output_type": "stream",
     "text": [
      "4.605169185988591\n"
     ]
    }
   ],
   "source": [
    "print(nll([1, 0, 0], [0.01, 0.01, 0.98]))"
   ]
  },
  {
   "cell_type": "markdown",
   "metadata": {},
   "source": [
    "Check that the average NLL of the following 3 almost perfect predictions is close to 0"
   ]
  },
  {
   "cell_type": "code",
   "execution_count": 21,
   "metadata": {},
   "outputs": [
    {
     "name": "stdout",
     "output_type": "stream",
     "text": [
      "0.0033501019174971905\n"
     ]
    }
   ],
   "source": [
    "Y_true = np.array([[0, 1, 0], [1, 0, 0], [0, 0, 1]])\n",
    "Y_pred = np.array([[0, 1, 0], [0.99, 0.01, 0], [0, 0, 1]])\n",
    "\n",
    "print(nll(Y_true, Y_pred))"
   ]
  },
  {
   "cell_type": "markdown",
   "metadata": {},
   "source": [
    "## 7. Logistic Regression Model with Gradient Decent"
   ]
  },
  {
   "cell_type": "markdown",
   "metadata": {},
   "source": [
    "These are the functions that you need for implementing gradient descent. It is very similar to the gradient descent that you implemented yesterday. The difference is that here we have now multiple predictors (for every digit one - so in total 10). That means that $Y$ is now a n x 10 matrix.\n",
    "\n",
    "Also the definition of the weights is a bit different. We use here $W$ (matrix) for the weights and $\\mathbf b$ (vector) for the biases/intercepts, but in principle also here they could be combined to one common coefficient matrix."
   ]
  },
  {
   "cell_type": "code",
   "execution_count": 22,
   "metadata": {},
   "outputs": [],
   "source": [
    "n_features = X_train.shape[1]\n",
    "n_classes = Y_train.shape[1]\n",
    "\n",
    "W = np.random.uniform(size=(n_features, n_classes), high=0.1, low=-0.1)\n",
    "b = np.random.uniform(size=n_classes, high=0.1, low=-0.1)\n",
    "output_size = n_classes\n",
    "\n",
    "\n",
    "def predict_proba(X, W, b):\n",
    "    # Compute normalised scores\n",
    "    Z = np.dot(X, W) + b\n",
    "    return softmax(Z)\n",
    "\n",
    "\n",
    "def predict(X, W, b):\n",
    "    # For each sample return the predicted class\n",
    "    if len(X.shape) == 1:\n",
    "        return np.argmax(predict_proba(X, W, b))\n",
    "    else:\n",
    "        return np.argmax(predict_proba(X, W, b), axis=1)\n",
    "\n",
    "\n",
    "def grad_loss(X, Y_true, W, b):\n",
    "    # Compute gradient with respect to W and b for a sample x and the true labels Y_true\n",
    "    y_pred = predict_proba(X, W, b)\n",
    "    dnll_output = y_pred - Y_true\n",
    "    grad_W = np.outer(x, dnll_output)\n",
    "    grad_b = dnll_output\n",
    "    grads = {\"W\": grad_W, \"b\": grad_b}\n",
    "    return grads\n",
    "\n",
    "\n",
    "def train(X, Y_true, W, b, learning_rate):\n",
    "    # Traditional gradient descent update without momentum\n",
    "    grads = grad_loss(X, Y_true, W, b)\n",
    "    W = W - learning_rate * grads[\"W\"]\n",
    "    b = b - learning_rate * grads[\"b\"]\n",
    "    return W, b\n",
    "\n",
    "\n",
    "def loss(X, Y_true, W, b):\n",
    "    # Use `nll` to compute the loss for the sample x with true label y\n",
    "    return nll(Y_true, predict_proba(X, W, b))\n",
    "\n",
    "\n",
    "def accuracy(X, Y_true, W, b):\n",
    "    # Compute accuracy for samples X with true labels y\n",
    "    y_preds = np.argmax(predict_proba(X, W, b), axis=1)\n",
    "    return np.mean(y_preds == np.argmax(Y_true, axis=1))"
   ]
  },
  {
   "cell_type": "markdown",
   "metadata": {},
   "source": [
    "## 8. Build and evaluate untrained model to test its inference"
   ]
  },
  {
   "cell_type": "code",
   "execution_count": 23,
   "metadata": {},
   "outputs": [
    {
     "name": "stdout",
     "output_type": "stream",
     "text": [
      "Evaluation of the untrained model:\n",
      "train loss: 2.2299, train acc: 0.157, test acc: 0.157\n"
     ]
    }
   ],
   "source": [
    "print(\"Evaluation of the untrained model:\")\n",
    "train_loss = loss(X_train, Y_train, W, b)\n",
    "train_acc = accuracy(X_train, Y_train, W, b)\n",
    "test_acc = accuracy(X_train, Y_train, W, b)\n",
    "\n",
    "print(\n",
    "    \"train loss: %0.4f, train acc: %0.3f, test acc: %0.3f\"\n",
    "    % (train_loss, train_acc, test_acc)\n",
    ")"
   ]
  },
  {
   "cell_type": "markdown",
   "metadata": {},
   "source": [
    "Test model on first example"
   ]
  },
  {
   "cell_type": "code",
   "execution_count": 24,
   "metadata": {},
   "outputs": [
    {
     "name": "stdout",
     "output_type": "stream",
     "text": [
      "4\n"
     ]
    },
    {
     "data": {
      "image/png": "[encoded data removed]",
      "text/plain": [
       "<Figure size 800x550 with 1 Axes>"
      ]
     },
     "metadata": {},
     "output_type": "display_data"
    }
   ],
   "source": [
    "sample_idx = 10\n",
    "plt.bar(\n",
    "    np.arange(len(Y_train[sample_idx])),\n",
    "    Y_train[sample_idx],\n",
    "    linestyle=\"--\",\n",
    "    label=\"true\",\n",
    "    color=\"orange\",\n",
    ")\n",
    "plt.bar(\n",
    "    np.arange(len(Y_train[sample_idx])),\n",
    "    predict_proba(X_train[sample_idx], W, b),\n",
    "    linestyle=\"--\",\n",
    "    label=\"true\",\n",
    "    width=0.5,\n",
    ")\n",
    "plt.title(\"Output probabilities (before Training)\")\n",
    "plt.xlabel(\"Number\")\n",
    "plt.ylabel(\"Probability\")\n",
    "plt.legend()\n",
    "print(np.argmax(predict_proba(X_train[sample_idx], W, b)))\n",
    "None"
   ]
  },
  {
   "cell_type": "markdown",
   "metadata": {},
   "source": [
    "## 9. Train for one epoch "
   ]
  },
  {
   "cell_type": "code",
   "execution_count": 25,
   "metadata": {},
   "outputs": [
    {
     "name": "stdout",
     "output_type": "stream",
     "text": [
      "Update #0, train loss: 2.2061, train acc: 0.181, test acc: 0.174\n",
      "Update #100, train loss: 1.2212, train acc: 0.753, test acc: 0.767\n",
      "Update #200, train loss: 0.8181, train acc: 0.863, test acc: 0.889\n",
      "Update #300, train loss: 0.6132, train acc: 0.907, test acc: 0.919\n",
      "Update #400, train loss: 0.5197, train acc: 0.910, test acc: 0.926\n",
      "Update #500, train loss: 0.4515, train acc: 0.918, test acc: 0.926\n",
      "Update #600, train loss: 0.3940, train acc: 0.929, test acc: 0.937\n",
      "Update #700, train loss: 0.3599, train acc: 0.936, test acc: 0.963\n",
      "Update #800, train loss: 0.3396, train acc: 0.940, test acc: 0.959\n",
      "Update #900, train loss: 0.3148, train acc: 0.938, test acc: 0.956\n",
      "Update #1000, train loss: 0.2959, train acc: 0.945, test acc: 0.963\n",
      "Update #1100, train loss: 0.2778, train acc: 0.946, test acc: 0.963\n",
      "Update #1200, train loss: 0.2663, train acc: 0.948, test acc: 0.963\n",
      "Update #1300, train loss: 0.2542, train acc: 0.952, test acc: 0.956\n",
      "Update #1400, train loss: 0.2434, train acc: 0.955, test acc: 0.952\n",
      "Update #1500, train loss: 0.2330, train acc: 0.955, test acc: 0.952\n"
     ]
    }
   ],
   "source": [
    "learning_rate = 0.01\n",
    "\n",
    "for i, (x, y) in enumerate(zip(X_train, Y_train)):\n",
    "    W, b = train(x, y, W, b, learning_rate)\n",
    "    if i % 100 == 0:\n",
    "        train_loss = loss(X_train, Y_train, W, b)\n",
    "        train_acc = accuracy(X_train, Y_train, W, b)\n",
    "        test_acc = accuracy(X_test, Y_test, W, b)\n",
    "        print(\n",
    "            \"Update #%d, train loss: %0.4f, train acc: %0.3f, test acc: %0.3f\"\n",
    "            % (i, train_loss, train_acc, test_acc)\n",
    "        )"
   ]
  },
  {
   "cell_type": "code",
   "execution_count": 26,
   "metadata": {},
   "outputs": [
    {
     "name": "stdout",
     "output_type": "stream",
     "text": [
      "2\n"
     ]
    },
    {
     "data": {
      "image/png": "[encoded data removed]",
      "text/plain": [
       "<Figure size 800x550 with 1 Axes>"
      ]
     },
     "metadata": {},
     "output_type": "display_data"
    }
   ],
   "source": [
    "sample_idx = 10\n",
    "plt.bar(\n",
    "    np.arange(len(Y_train[sample_idx])),\n",
    "    Y_train[sample_idx],\n",
    "    linestyle=\"--\",\n",
    "    label=\"true\",\n",
    "    color=\"orange\",\n",
    ")\n",
    "plt.bar(\n",
    "    np.arange(len(Y_train[sample_idx])),\n",
    "    predict_proba(X_train[sample_idx], W, b),\n",
    "    linestyle=\"--\",\n",
    "    label=\"true\",\n",
    "    width=0.5,\n",
    ")\n",
    "plt.title(\"Output probabilities (after Training)\")\n",
    "plt.xlabel(\"Number\")\n",
    "plt.ylabel(\"Probability\")\n",
    "plt.legend()\n",
    "print(np.argmax(predict_proba(X_train[sample_idx], W, b)))\n",
    "None"
   ]
  },
  {
   "cell_type": "markdown",
   "metadata": {},
   "source": [
    "## Bonus: Confusion Matrix"
   ]
  },
  {
   "cell_type": "code",
   "execution_count": 27,
   "metadata": {},
   "outputs": [],
   "source": [
    "cm = confusion_matrix(y_test, predict(X_test, W, b))\n",
    "cmdf = pd.DataFrame(cm)"
   ]
  },
  {
   "cell_type": "code",
   "execution_count": 28,
   "metadata": {},
   "outputs": [
    {
     "data": {
      "text/html": [
       "<div>\n",
       "<style scoped>\n",
       "    .dataframe tbody tr th:only-of-type {\n",
       "        vertical-align: middle;\n",
       "    }\n",
       "\n",
       "    .dataframe tbody tr th {\n",
       "        vertical-align: top;\n",
       "    }\n",
       "\n",
       "    .dataframe thead th {\n",
       "        text-align: right;\n",
       "    }\n",
       "</style>\n",
       "<table border=\"1\" class=\"dataframe\">\n",
       "  <thead>\n",
       "    <tr style=\"text-align: right;\">\n",
       "      <th></th>\n",
       "      <th>0</th>\n",
       "      <th>1</th>\n",
       "      <th>2</th>\n",
       "      <th>3</th>\n",
       "      <th>4</th>\n",
       "      <th>5</th>\n",
       "      <th>6</th>\n",
       "      <th>7</th>\n",
       "      <th>8</th>\n",
       "      <th>9</th>\n",
       "    </tr>\n",
       "  </thead>\n",
       "  <tbody>\n",
       "    <tr>\n",
       "      <th>0</th>\n",
       "      <td>27</td>\n",
       "      <td>0</td>\n",
       "      <td>0</td>\n",
       "      <td>0</td>\n",
       "      <td>0</td>\n",
       "      <td>0</td>\n",
       "      <td>0</td>\n",
       "      <td>0</td>\n",
       "      <td>0</td>\n",
       "      <td>0</td>\n",
       "    </tr>\n",
       "    <tr>\n",
       "      <th>1</th>\n",
       "      <td>0</td>\n",
       "      <td>26</td>\n",
       "      <td>0</td>\n",
       "      <td>0</td>\n",
       "      <td>0</td>\n",
       "      <td>0</td>\n",
       "      <td>0</td>\n",
       "      <td>0</td>\n",
       "      <td>0</td>\n",
       "      <td>3</td>\n",
       "    </tr>\n",
       "    <tr>\n",
       "      <th>2</th>\n",
       "      <td>0</td>\n",
       "      <td>0</td>\n",
       "      <td>29</td>\n",
       "      <td>0</td>\n",
       "      <td>0</td>\n",
       "      <td>0</td>\n",
       "      <td>0</td>\n",
       "      <td>0</td>\n",
       "      <td>0</td>\n",
       "      <td>0</td>\n",
       "    </tr>\n",
       "    <tr>\n",
       "      <th>3</th>\n",
       "      <td>0</td>\n",
       "      <td>0</td>\n",
       "      <td>0</td>\n",
       "      <td>17</td>\n",
       "      <td>0</td>\n",
       "      <td>0</td>\n",
       "      <td>0</td>\n",
       "      <td>0</td>\n",
       "      <td>0</td>\n",
       "      <td>0</td>\n",
       "    </tr>\n",
       "    <tr>\n",
       "      <th>4</th>\n",
       "      <td>0</td>\n",
       "      <td>0</td>\n",
       "      <td>0</td>\n",
       "      <td>0</td>\n",
       "      <td>26</td>\n",
       "      <td>0</td>\n",
       "      <td>0</td>\n",
       "      <td>1</td>\n",
       "      <td>1</td>\n",
       "      <td>0</td>\n",
       "    </tr>\n",
       "    <tr>\n",
       "      <th>5</th>\n",
       "      <td>0</td>\n",
       "      <td>0</td>\n",
       "      <td>0</td>\n",
       "      <td>0</td>\n",
       "      <td>0</td>\n",
       "      <td>30</td>\n",
       "      <td>0</td>\n",
       "      <td>0</td>\n",
       "      <td>0</td>\n",
       "      <td>1</td>\n",
       "    </tr>\n",
       "    <tr>\n",
       "      <th>6</th>\n",
       "      <td>0</td>\n",
       "      <td>0</td>\n",
       "      <td>0</td>\n",
       "      <td>0</td>\n",
       "      <td>0</td>\n",
       "      <td>0</td>\n",
       "      <td>26</td>\n",
       "      <td>0</td>\n",
       "      <td>0</td>\n",
       "      <td>0</td>\n",
       "    </tr>\n",
       "    <tr>\n",
       "      <th>7</th>\n",
       "      <td>0</td>\n",
       "      <td>0</td>\n",
       "      <td>0</td>\n",
       "      <td>0</td>\n",
       "      <td>0</td>\n",
       "      <td>0</td>\n",
       "      <td>0</td>\n",
       "      <td>24</td>\n",
       "      <td>0</td>\n",
       "      <td>0</td>\n",
       "    </tr>\n",
       "    <tr>\n",
       "      <th>8</th>\n",
       "      <td>0</td>\n",
       "      <td>2</td>\n",
       "      <td>0</td>\n",
       "      <td>0</td>\n",
       "      <td>0</td>\n",
       "      <td>1</td>\n",
       "      <td>0</td>\n",
       "      <td>1</td>\n",
       "      <td>30</td>\n",
       "      <td>1</td>\n",
       "    </tr>\n",
       "    <tr>\n",
       "      <th>9</th>\n",
       "      <td>0</td>\n",
       "      <td>0</td>\n",
       "      <td>0</td>\n",
       "      <td>0</td>\n",
       "      <td>0</td>\n",
       "      <td>0</td>\n",
       "      <td>0</td>\n",
       "      <td>0</td>\n",
       "      <td>1</td>\n",
       "      <td>23</td>\n",
       "    </tr>\n",
       "  </tbody>\n",
       "</table>\n",
       "</div>"
      ],
      "text/plain": [
       "    0   1   2   3   4   5   6   7   8   9\n",
       "0  27   0   0   0   0   0   0   0   0   0\n",
       "1   0  26   0   0   0   0   0   0   0   3\n",
       "2   0   0  29   0   0   0   0   0   0   0\n",
       "3   0   0   0  17   0   0   0   0   0   0\n",
       "4   0   0   0   0  26   0   0   1   1   0\n",
       "5   0   0   0   0   0  30   0   0   0   1\n",
       "6   0   0   0   0   0   0  26   0   0   0\n",
       "7   0   0   0   0   0   0   0  24   0   0\n",
       "8   0   2   0   0   0   1   0   1  30   1\n",
       "9   0   0   0   0   0   0   0   0   1  23"
      ]
     },
     "execution_count": 28,
     "metadata": {},
     "output_type": "execute_result"
    }
   ],
   "source": [
    "cmdf"
   ]
  },
  {
   "cell_type": "code",
   "execution_count": 29,
   "metadata": {},
   "outputs": [
    {
     "data": {
      "image/png": "[encoded data removed]",
      "text/plain": [
       "<Figure size 800x550 with 2 Axes>"
      ]
     },
     "metadata": {},
     "output_type": "display_data"
    }
   ],
   "source": [
    "import seaborn as sns\n",
    "\n",
    "# plot the confusion matrix as heatmap\n",
    "sns.heatmap(cmdf, annot=True)\n",
    "None"
   ]
  },
  {
   "cell_type": "markdown",
   "metadata": {},
   "source": [
    "--------------\n",
    "# End of This Notebook"
   ]
  }
 ],
 "metadata": {
  "kernelspec": {
   "display_name": "sit-ml",
   "language": "python",
   "name": "python3"
  },
  "language_info": {
   "codemirror_mode": {
    "name": "ipython",
    "version": 3
   },
   "file_extension": ".py",
   "mimetype": "text/x-python",
   "name": "python",
   "nbconvert_exporter": "python",
   "pygments_lexer": "ipython3",
   "version": "3.10.13"
  },
  "vscode": {
   "interpreter": {
    "hash": "9a7a06d32fdfcb2954961ba554ac1f2174976b00446c3527e93f357694d93a62"
   }
  }
 },
 "nbformat": 4,
 "nbformat_minor": 4
}
